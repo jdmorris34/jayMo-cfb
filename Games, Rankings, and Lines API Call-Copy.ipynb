{
 "cells": [
  {
   "cell_type": "code",
   "execution_count": 1,
   "id": "2ae33a81-2e2c-4c27-bbb1-6a4f7b9470cb",
   "metadata": {},
   "outputs": [],
   "source": [
    "# Import cfbd library, pandas, and establish API connection to Games and Lines instance\n",
    "\n",
    "import cfbd\n",
    "import pandas as pd\n",
    "pd.set_option('display.max_columns', None)\n",
    "pd.set_option('display.max_rows', None)\n",
    "\n",
    "configuration = cfbd.Configuration()\n",
    "configuration.api_key['Authorization'] = 'XXXXXXX'\n",
    "configuration.api_key_prefix['Authorization'] = 'Bearer'\n",
    "api_config = cfbd.ApiClient(configuration)\n",
    "\n",
    "api_games_instance = cfbd.GamesApi(api_config)\n",
    "api_lines_instance = cfbd.BettingApi(api_config)\n",
    "api_rankings_instance = cfbd.RankingsApi(api_config)"
   ]
  },
  {
   "cell_type": "code",
   "execution_count": 2,
   "id": "b9c5762b-d553-4b15-985e-0dd538d57b48",
   "metadata": {},
   "outputs": [],
   "source": [
    "## Pull all games in 2024 played/unplayed\n",
    "\n",
    "games = []\n",
    "\n",
    "games_response = api_games_instance.get_games(year=2024, season_type = 'regular')\n",
    "games = [*games, *games_response]"
   ]
  },
  {
   "cell_type": "code",
   "execution_count": 3,
   "id": "39bea63e-0bfd-4d70-9fac-aa459419203a",
   "metadata": {
    "scrolled": true
   },
   "outputs": [],
   "source": [
    "# Flatten games API response and filter only to needed fields\n",
    "\n",
    "games = [\n",
    "    dict(\n",
    "        game_id=g.id,\n",
    "        season=g.season,\n",
    "        week=g.week,\n",
    "        start_date=g.start_date,\n",
    "        start_time_tbd=g.start_time_tbd,\n",
    "        neutral_site = g.neutral_site,\n",
    "        home_id = g.home_id,\n",
    "        home_team=g.home_team,\n",
    "        home_conference=g.home_conference,\n",
    "        home_points=g.home_points,\n",
    "        home_pregame_elo=g.home_pregame_elo,\n",
    "        away_id=g.away_id,\n",
    "        away_team=g.away_team,\n",
    "        away_conference=g.away_conference,\n",
    "        away_points=g.away_points,\n",
    "        away_pregame_elo=g.away_pregame_elo\n",
    "    ) for g in games]"
   ]
  },
  {
   "cell_type": "code",
   "execution_count": 4,
   "id": "f04a05b3-cad5-432c-b51d-f8e12ff64055",
   "metadata": {},
   "outputs": [],
   "source": [
    "# Create fields in order to calculate running totals of wins/losses by week\n",
    "\n",
    "games_2024_df = pd.DataFrame.from_records(games)\n",
    "games_2024_df.to_csv('games_2024.csv')\n",
    "\n",
    "games_2024_df.loc[games_2024_df['home_points'] > games_2024_df['away_points'], 'home_win2'] = 1\n",
    "games_2024_df.loc[games_2024_df['away_points'] > games_2024_df['home_points'], 'home_win2'] = 0\n",
    "games_2024_df.loc[games_2024_df['home_points'] < games_2024_df['away_points'], 'home_loss2'] = 1\n",
    "games_2024_df.loc[games_2024_df['away_points'] < games_2024_df['home_points'], 'home_loss2'] = 0\n",
    "\n",
    "games_2024_df.loc[games_2024_df['home_points'] < games_2024_df['away_points'], 'away_win2'] = 1\n",
    "games_2024_df.loc[games_2024_df['away_points'] < games_2024_df['home_points'], 'away_win2'] = 0\n",
    "games_2024_df.loc[games_2024_df['home_points'] > games_2024_df['away_points'], 'away_loss2'] = 1\n",
    "games_2024_df.loc[games_2024_df['away_points'] > games_2024_df['home_points'], 'away_loss2'] = 0\n",
    "\n",
    "games_2024_df.loc[games_2024_df['home_points'].isnull(), 'game_played_home'] = 0\n",
    "games_2024_df.loc[games_2024_df['home_points'].notnull(), 'game_played_home'] = 1\n",
    "\n",
    "games_2024_df.loc[games_2024_df['away_points'].isnull(), 'game_played_away'] = 0\n",
    "games_2024_df.loc[games_2024_df['away_points'].notnull(), 'game_played_away'] = 1\n",
    "\n",
    "games_2024_df = games_2024_df.drop(games_2024_df[['game_id','start_date','start_time_tbd','neutral_site','home_id','home_conference','home_points','home_pregame_elo',\n",
    "                                                  'away_id','away_conference','away_points','away_pregame_elo']],axis=1)"
   ]
  },
  {
   "cell_type": "code",
   "execution_count": 5,
   "id": "0cbe5be6-37e7-4859-9100-9a7abd147fed",
   "metadata": {},
   "outputs": [],
   "source": [
    "# Calculate running wins/losses for each team\n",
    "\n",
    "records_df_a = games_2024_df[['season','week','game_played_home','home_team','home_win2','home_loss2']]\n",
    "records_df_b = games_2024_df[['season','week','game_played_away','away_team','away_win2','away_loss2']]\n",
    "\n",
    "records_df_a = records_df_a.sort_values(['season', 'week','home_team'])\n",
    "records_df_b = records_df_b.sort_values(['season', 'week','away_team'])\n",
    "\n",
    "records_df_a = records_df_a.rename(columns={\"home_team\": \"team\",\"game_played_home\": \"game_played\"})\n",
    "records_df_b = records_df_b.rename(columns={\"away_team\": \"team\",\"game_played_away\": \"game_played\"})\n",
    "\n",
    "\n",
    "records_df = pd.concat([records_df_a,records_df_b])\n",
    "records_df = records_df.sort_values(['season', 'week','team'])\n",
    "records_df.fillna(0,inplace=True)\n",
    "\n",
    "records_df['running_wins'] = records_df['home_win2'] + records_df['away_win2']\n",
    "records_df['running_losses'] = records_df['home_loss2'] + records_df['away_loss2']\n",
    "\n",
    "records_df['win_total'] = records_df.groupby(['team'])['running_wins'].cumsum()\n",
    "records_df['loss_total'] = records_df.groupby(['team'])['running_losses'].cumsum()"
   ]
  },
  {
   "cell_type": "code",
   "execution_count": 6,
   "id": "d2a3fb5e-aca6-47b6-8cb8-b0322df3fc12",
   "metadata": {},
   "outputs": [],
   "source": [
    "# Account for bye weeks and completed games for the current week\n",
    "\n",
    "records_df['week_lag'] = records_df.groupby(['team'])['week'].shift(-1) - records_df['week']\n",
    "\n",
    "## BYE WEEK\n",
    "records_df_duplicated_1 = records_df[records_df['week_lag'] == 2].copy()\n",
    "records_df_duplicated_1['week'] = records_df_duplicated_1['week']+1\n",
    "\n",
    "## COMPLETED GAME CURRENT WEEK\n",
    "records_df_duplicated_2 = records_df[records_df['week_lag'].isnull()].copy()\n",
    "records_df_duplicated_2['week'] = records_df_duplicated_2['week']+1\n",
    "\n",
    "records_df_final = pd.concat([records_df,records_df_duplicated_1,records_df_duplicated_2])"
   ]
  },
  {
   "cell_type": "code",
   "execution_count": 7,
   "id": "605f17f1-c655-4dd2-86b3-f8ef4045320e",
   "metadata": {},
   "outputs": [],
   "source": [
    "# Create CSV with records for every week for every team\n",
    "\n",
    "records_df_final.to_csv('records_2024.csv',index=False)"
   ]
  },
  {
   "cell_type": "code",
   "execution_count": 8,
   "id": "11dfa6f7-0b3e-4c2a-8dc8-12407497f2f3",
   "metadata": {},
   "outputs": [],
   "source": [
    "# Make API call for rankings\n",
    "\n",
    "api_rankings_instance = cfbd.RankingsApi(api_config)\n",
    "\n",
    "rankings_raw = []\n",
    "\n",
    "for week in range(1,17):\n",
    "    rankings_response = api_rankings_instance.get_rankings(year=2024, week=week)\n",
    "    rankings_raw = [*rankings_raw, *rankings_response]"
   ]
  },
  {
   "cell_type": "code",
   "execution_count": 9,
   "id": "49fe7865-0f78-408e-ab8a-86addb0d6668",
   "metadata": {},
   "outputs": [],
   "source": [
    "# Flatten rankings data and filter to only AP top 25\n",
    "# Create CSV with AP rankings for every week\n",
    "\n",
    "ranks=[]\n",
    "\n",
    "for ranking in rankings_raw:\n",
    "    for p in ranking.polls:\n",
    "        for r in p.ranks:\n",
    "            ranks.append(dict(\n",
    "                year=ranking.season,\n",
    "                week=ranking.week,\n",
    "                poll=p.poll,\n",
    "                rank=r.rank,\n",
    "                school=r.school\n",
    "            ))\n",
    "            \n",
    "rankings_df = pd.DataFrame.from_records(ranks)\n",
    "rankings_AP_df = rankings_df.loc[rankings_df['poll']=='AP Top 25']\n",
    "rankings_AP_df.to_csv('rankings_2024.csv',index=False)"
   ]
  },
  {
   "cell_type": "code",
   "execution_count": 10,
   "id": "b1fc4b75-8f03-4f2e-a187-2eab0387ca49",
   "metadata": {},
   "outputs": [],
   "source": [
    "# Pull lines for all 2024 games played/unplayed\n",
    "\n",
    "lines=[]\n",
    "\n",
    "lines_response = api_lines_instance.get_lines(year=2024, season_type = 'regular')\n",
    "lines = [*lines, *lines_response]"
   ]
  },
  {
   "cell_type": "code",
   "execution_count": 11,
   "id": "f2fb8e4a-7340-4f93-9165-95e6b20534d0",
   "metadata": {},
   "outputs": [],
   "source": [
    "# Join betting lines data with games data, only rows with both a spread and over/under line\n",
    "\n",
    "# Current betting lines provider: Bovada\n",
    "\n",
    "for game in games:\n",
    "    game_lines = [l for l in lines if l.id == game['game_id']]\n",
    "\n",
    "    if len(game_lines) > 0:\n",
    "        game_line = [l for l in game_lines[0].lines if l.provider == 'Bovada']\n",
    "\n",
    "        if len(game_line) > 0 and game_line[0].spread is not None:\n",
    "            game['spread'] = float(game_line[0].spread)\n",
    "    \n",
    "        over_under = [l for l in game_lines[0].lines if l.provider == 'Bovada']\n",
    "        \n",
    "        if len(over_under) > 0 and game_line[0].over_under is not None:\n",
    "            game['over_under'] = float(game_line[0].over_under)"
   ]
  },
  {
   "cell_type": "code",
   "execution_count": 12,
   "id": "1d2026b2-e852-4512-a155-36ef8a96190a",
   "metadata": {},
   "outputs": [],
   "source": [
    "# Convert games and lines merged data into pandas dataframe\n",
    "# Drop null columns for anything but the score\n",
    "# Filter out any weeks unplayed except for upcoming week\n",
    "\n",
    "import numpy as np\n",
    "\n",
    "games_lines_df = pd.DataFrame.from_records(games)\n",
    "\n",
    "games_lines_df.dropna(subset=['home_pregame_elo','away_pregame_elo'],inplace=True)\n",
    "\n",
    "max_week = games_lines_df.loc[games_lines_df['home_points'].notnull()]\n",
    "max_week = max_week['week'].max()\n",
    "\n",
    "max_week_check = games_lines_df.loc[games_lines_df['week']==max_week,['home_points']]\n",
    "\n",
    "if(max_week_check.isna().any().any()):\n",
    "    games_lines_df = games_lines_df.loc[games_lines_df['week']<=max_week]\n",
    "else:\n",
    "    games_lines_df = games_lines_df.loc[games_lines_df['week']<=max_week+1]"
   ]
  },
  {
   "cell_type": "code",
   "execution_count": 13,
   "id": "4ccc6a82-eba0-49fe-8b78-ecce96962e24",
   "metadata": {},
   "outputs": [],
   "source": [
    "# Merge with team info dataframe\n",
    "\n",
    "team_info_df = pd.read_csv('team_info.csv')\n",
    "\n",
    "games_lines_df = games_lines_df.merge(team_info_df,\n",
    "                                      left_on = ['home_id'],\n",
    "                                      right_on = ['id']).merge(team_info_df,\n",
    "                                                               left_on = ['away_id'],\n",
    "                                                               right_on = ['id'],\n",
    "                                                               suffixes = ['_home','_away'])\n",
    "                                                                                                                        \n",
    "\n",
    "games_lines_df = games_lines_df.drop(games_lines_df[['id_home','id_away','conference_home','conference_away']],axis=1)"
   ]
  },
  {
   "cell_type": "code",
   "execution_count": 14,
   "id": "cb25816a-c458-44e0-b272-c3fde3b1ccaf",
   "metadata": {},
   "outputs": [],
   "source": [
    "# Create CSV for 2024 games with lines data\n",
    "\n",
    "games_lines_df.to_csv('games_with_lines_2024.csv',index=False)"
   ]
  },
  {
   "cell_type": "code",
   "execution_count": null,
   "id": "b654819b-d042-4331-875c-65fac977988c",
   "metadata": {},
   "outputs": [],
   "source": []
  }
 ],
 "metadata": {
  "kernelspec": {
   "display_name": "Python 3 (ipykernel)",
   "language": "python",
   "name": "python3"
  },
  "language_info": {
   "codemirror_mode": {
    "name": "ipython",
    "version": 3
   },
   "file_extension": ".py",
   "mimetype": "text/x-python",
   "name": "python",
   "nbconvert_exporter": "python",
   "pygments_lexer": "ipython3",
   "version": "3.12.4"
  }
 },
 "nbformat": 4,
 "nbformat_minor": 5
}
