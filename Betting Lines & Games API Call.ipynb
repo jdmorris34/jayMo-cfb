{
 "cells": [
  {
   "cell_type": "code",
   "execution_count": 1,
   "id": "2ae33a81-2e2c-4c27-bbb1-6a4f7b9470cb",
   "metadata": {},
   "outputs": [],
   "source": [
    "# Import cfbd library, pandas, and establish API connection to Games and Lines instance\n",
    "\n",
    "import cfbd\n",
    "import pandas as pd\n",
    "pd.set_option('display.max_columns', None)\n",
    "pd.set_option('display.max_rows', None)\n",
    "\n",
    "configuration = cfbd.Configuration()\n",
    "configuration.api_key['Authorization'] = 'do9LyjazUodASYyuS2JceIPqtXACDIE1JLoSFDLWwZrkNs/1L+9X25Im8qFmdEEY'\n",
    "configuration.api_key_prefix['Authorization'] = 'Bearer'\n",
    "api_config = cfbd.ApiClient(configuration)\n",
    "\n",
    "api_games_instance = cfbd.GamesApi(api_config)\n",
    "api_lines_instance = cfbd.BettingApi(api_config)"
   ]
  },
  {
   "cell_type": "code",
   "execution_count": 2,
   "id": "b9c5762b-d553-4b15-985e-0dd538d57b48",
   "metadata": {},
   "outputs": [],
   "source": [
    "## Pull all games in 2024 played/unplayed\n",
    "\n",
    "games = []\n",
    "\n",
    "games_response = api_games_instance.get_games(year=2024, season_type = 'regular')\n",
    "games = [*games, *games_response]"
   ]
  },
  {
   "cell_type": "code",
   "execution_count": 3,
   "id": "39bea63e-0bfd-4d70-9fac-aa459419203a",
   "metadata": {
    "scrolled": true
   },
   "outputs": [],
   "source": [
    "# Flatten games API response and filter only to needed fields\n",
    "\n",
    "games = [\n",
    "    dict(\n",
    "        id=g.id,\n",
    "        season=g.season,\n",
    "        week=g.week,\n",
    "        start_date=g.start_date,\n",
    "        neutral_site = g.neutral_site,\n",
    "        home_team=g.home_team,\n",
    "        home_conference=g.home_conference,\n",
    "        home_points=g.home_points,\n",
    "        home_pregame_elo=g.home_pregame_elo,\n",
    "        away_team=g.away_team,\n",
    "        away_conference=g.away_conference,\n",
    "        away_points=g.away_points,\n",
    "        away_pregame_elo=g.away_pregame_elo\n",
    "    ) for g in games]"
   ]
  },
  {
   "cell_type": "code",
   "execution_count": 4,
   "id": "df7d0f1c-7ebf-4c75-a653-cf4a1e4a0ff4",
   "metadata": {},
   "outputs": [],
   "source": [
    "# Convert 2024 games into a pandas dataframe and export as csv\n",
    "# Is this needed/used?\n",
    "\n",
    "games_2024_df = pd.DataFrame.from_records(games)\n",
    "games_2024_df.to_csv('games_2024.csv',index=False)"
   ]
  },
  {
   "cell_type": "code",
   "execution_count": 5,
   "id": "b1fc4b75-8f03-4f2e-a187-2eab0387ca49",
   "metadata": {},
   "outputs": [],
   "source": [
    "# Pull lines for all 2024 games played/unplayed\n",
    "\n",
    "lines=[]\n",
    "\n",
    "lines_response = api_lines_instance.get_lines(year=2024, season_type = 'regular')\n",
    "lines = [*lines, *lines_response]"
   ]
  },
  {
   "cell_type": "code",
   "execution_count": 6,
   "id": "f2fb8e4a-7340-4f93-9165-95e6b20534d0",
   "metadata": {},
   "outputs": [],
   "source": [
    "# Join betting lines data with games data, only rows with both a spread and over/under line\n",
    "\n",
    "# Current betting lines provider: Bovada\n",
    "# Update as needed\n",
    "\n",
    "for game in games:\n",
    "    game_lines = [l for l in lines if l.id == game['id']]\n",
    "\n",
    "    if len(game_lines) > 0:\n",
    "        game_line = [l for l in game_lines[0].lines if l.provider == 'Bovada']\n",
    "\n",
    "        if len(game_line) > 0 and game_line[0].spread is not None:\n",
    "            game['spread'] = float(game_line[0].spread)\n",
    "    \n",
    "        over_under = [l for l in game_lines[0].lines if l.provider == 'Bovada']\n",
    "        \n",
    "        if len(over_under) > 0 and game_line[0].over_under is not None:\n",
    "            game['over_under'] = float(game_line[0].over_under)"
   ]
  },
  {
   "cell_type": "code",
   "execution_count": 7,
   "id": "1d2026b2-e852-4512-a155-36ef8a96190a",
   "metadata": {},
   "outputs": [],
   "source": [
    "# Convert games and lines merged data into pandas dataframe\n",
    "# Drop null columns for anything but the score\n",
    "# Filter out any weeks unplayed except for upcoming week\n",
    "# Export as csv\n",
    "\n",
    "games_lines_df = pd.DataFrame.from_records(games)\n",
    "\n",
    "games_lines_df.dropna(subset=['home_pregame_elo','away_pregame_elo','spread'],inplace=True)\n",
    "\n",
    "min_week = games_lines_df.loc[games_lines_df['home_points'].isnull()]\n",
    "min_week = min_week['week'].min()\n",
    "\n",
    "games_lines_df = games_lines_df.loc[games_lines_df['week']<=min_week]\n",
    "\n",
    "games_lines_df.to_csv('games_with_lines_2024.csv',index=False)\n"
   ]
  },
  {
   "cell_type": "code",
   "execution_count": null,
   "id": "cb25816a-c458-44e0-b272-c3fde3b1ccaf",
   "metadata": {},
   "outputs": [],
   "source": []
  }
 ],
 "metadata": {
  "kernelspec": {
   "display_name": "Python 3 (ipykernel)",
   "language": "python",
   "name": "python3"
  },
  "language_info": {
   "codemirror_mode": {
    "name": "ipython",
    "version": 3
   },
   "file_extension": ".py",
   "mimetype": "text/x-python",
   "name": "python",
   "nbconvert_exporter": "python",
   "pygments_lexer": "ipython3",
   "version": "3.12.4"
  }
 },
 "nbformat": 4,
 "nbformat_minor": 5
}
