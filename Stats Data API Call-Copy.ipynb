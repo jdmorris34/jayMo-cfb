{
 "cells": [
  {
   "cell_type": "code",
   "execution_count": 1,
   "id": "07d7be27-089c-44e0-abb0-49030c21cbe9",
   "metadata": {},
   "outputs": [],
   "source": [
    "# Import cfbd package, pandas, and set up API connections to Stats and Metrics instance\n",
    "\n",
    "import cfbd\n",
    "import pandas as pd\n",
    "pd.set_option('display.max_columns', None)\n",
    "pd.set_option('display.max_rows', None)\n",
    "\n",
    "configuration = cfbd.Configuration()\n",
    "configuration.api_key['Authorization'] = 'XXXXXX'\n",
    "configuration.api_key_prefix['Authorization'] = 'Bearer'\n",
    "api_config = cfbd.ApiClient(configuration)\n",
    "\n",
    "api_stats_instance = cfbd.StatsApi(api_config)\n",
    "api_metrics_instance = cfbd.MetricsApi(api_config)"
   ]
  },
  {
   "cell_type": "code",
   "execution_count": 2,
   "id": "17ea1af2-4a4f-48db-9949-2c3883f77778",
   "metadata": {
    "scrolled": true
   },
   "outputs": [],
   "source": [
    "# Pull advanced team stats for every week of 2024 season\n",
    "\n",
    "adv_team_stats_2024 = []\n",
    "\n",
    "for end_week in range(1,17):\n",
    "    adv_stats_response = api_stats_instance.get_advanced_team_season_stats(year=2024, start_week=1, end_week=end_week, exclude_garbage_time=True)\n",
    "    adv_team_stats_2024.append([*adv_stats_response])"
   ]
  },
  {
   "cell_type": "code",
   "execution_count": 3,
   "id": "26d3590c-5d29-4312-9b1f-58e2efad22b6",
   "metadata": {},
   "outputs": [],
   "source": [
    "# Flatten advanced team stats API response one level\n",
    "\n",
    "flattened_adv =[]\n",
    "\n",
    "for i in range(0,len(adv_team_stats_2024)):\n",
    "    flattened_adv.append([dict(\n",
    "        season=t.season,\n",
    "        team=t.team,\n",
    "        conference=t.conference,\n",
    "        defense_drives=t.defense.drives,\n",
    "        defense_overall_explosiveness=t.defense.explosiveness,\n",
    "        defense_fp_avg_ppa=t.defense.field_position.average_predicted_points,\n",
    "        defense_fp_avg_start=t.defense.field_position.average_start,\n",
    "        defense_havoc_dbs=t.defense.havoc.db,\n",
    "        defense_havoc_f7=t.defense.havoc.front_seven,\n",
    "        defense_havoc_total=t.defense.havoc.total,\n",
    "        defense_line_yards=t.defense.line_yards,\n",
    "        defense_line_yards_total=t.defense.line_yards_total,\n",
    "        defense_open_field_yards=t.defense.open_field_yards,\n",
    "        defense_open_field_yards_total=t.defense.open_field_yards_total,\n",
    "        defense_passing_downs_explosiveness=t.defense.passing_downs.explosiveness,\n",
    "        defense_passing_downs_ppa=t.defense.passing_downs.ppa,\n",
    "        defense_passing_downs_rate=t.defense.passing_downs.rate,\n",
    "        defense_passing_downs_success_rate=t.defense.passing_downs.success_rate,\n",
    "        defense_passing_explosiveness=t.defense.passing_plays.explosiveness,\n",
    "        defense_passing_ppa_per_play=t.defense.passing_plays.ppa,\n",
    "        defense_passing_rate=t.defense.passing_plays.rate,\n",
    "        defense_passing_success_rate=t.defense.passing_plays.success_rate,\n",
    "        defense_passing_cumulative_ppa=t.defense.passing_plays.total_ppa,\n",
    "        defense_plays=t.defense.plays,\n",
    "        defense_points_per_opportunity=t.defense.points_per_opportunity,\n",
    "        defense_power_success=t.defense.power_success,\n",
    "        defense_ppa_per_play=t.defense.ppa,\n",
    "        defense_rushing_explosiveness=t.defense.rushing_plays.explosiveness,\n",
    "        defense_rushing_ppa_per_play=t.defense.rushing_plays.ppa,\n",
    "        defense_rushing_rate=t.defense.rushing_plays.rate,\n",
    "        defense_rushing_success_rate=t.defense.rushing_plays.success_rate,\n",
    "        defense_rushing_cumulative_ppa=t.defense.rushing_plays.total_ppa,\n",
    "        defense_second_level_yards=t.defense.second_level_yards,\n",
    "        defense_second_level_yards_total=t.defense.second_level_yards_total,\n",
    "        defense_standard_downs_explosiveness=t.defense.standard_downs.explosiveness,\n",
    "        defense_standard_downs_ppa_per_play=t.defense.standard_downs.ppa,\n",
    "        defense_standard_downs_rate=t.defense.standard_downs.rate,\n",
    "        defense_standard_downs_success_rate=t.defense.standard_downs.success_rate,\n",
    "        defense_stuff_rate=t.defense.stuff_rate,\n",
    "        defense_overall_success_rate=t.defense.success_rate,\n",
    "        defense_opportunities_allowed=t.defense.total_opportunies,\n",
    "        defense_overall_cumulative_ppa=t.defense.total_ppa,\n",
    "        offense_drives=t.offense.drives,\n",
    "        offense_overall_explosiveness=t.offense.explosiveness,\n",
    "        offense_fp_avg_ppa=t.offense.field_position.average_predicted_points,\n",
    "        offense_fp_avg_start=t.offense.field_position.average_start,\n",
    "        offense_havoc_dbs=t.offense.havoc.db,\n",
    "        offense_havoc_f7=t.offense.havoc.front_seven,\n",
    "        offense_havoc_total=t.offense.havoc.total,\n",
    "        offense_line_yards=t.offense.line_yards,\n",
    "        offense_line_yards_total=t.offense.line_yards_total,\n",
    "        offense_open_field_yards=t.offense.open_field_yards,\n",
    "        offense_open_field_yards_total=t.offense.open_field_yards_total,\n",
    "        offense_passing_downs_explosiveness=t.offense.passing_downs.explosiveness,\n",
    "        offense_passing_downs_ppa=t.offense.passing_downs.ppa,\n",
    "        offense_passing_downs_rate=t.offense.passing_downs.rate,\n",
    "        offense_passing_downs_success_rate=t.offense.passing_downs.success_rate,\n",
    "        offense_passing_explosiveness=t.offense.passing_plays.explosiveness,\n",
    "        offense_passing_ppa_per_play=t.offense.passing_plays.ppa,\n",
    "        offense_passing_rate=t.offense.passing_plays.rate,\n",
    "        offense_passing_success_rate=t.offense.passing_plays.success_rate,\n",
    "        offense_passing_cumulative_ppa=t.offense.passing_plays.total_ppa,\n",
    "        offense_plays=t.offense.plays,\n",
    "        offense_points_per_opportunity=t.offense.points_per_opportunity,\n",
    "        offense_power_success=t.offense.power_success,\n",
    "        offense_ppa_per_play=t.offense.ppa,\n",
    "        offense_rushing_explosiveness=t.offense.rushing_plays.explosiveness,\n",
    "        offense_rushing_ppa_per_play=t.offense.rushing_plays.ppa,\n",
    "        offense_rushing_rate=t.offense.rushing_plays.rate,\n",
    "        offense_rushing_success_rate=t.offense.rushing_plays.success_rate,\n",
    "        offense_rushing_cumulative_ppa=t.offense.rushing_plays.total_ppa,\n",
    "        offense_second_level_yards=t.offense.second_level_yards,\n",
    "        offense_second_level_yards_total=t.offense.second_level_yards_total,\n",
    "        offense_standard_downs_explosiveness=t.offense.standard_downs.explosiveness,\n",
    "        offense_standard_downs_ppa_per_play=t.offense.standard_downs.ppa,\n",
    "        offense_standard_downs_rate=t.offense.standard_downs.rate,\n",
    "        offense_standard_downs_success_rate=t.offense.standard_downs.success_rate,\n",
    "        offense_stuff_rate=t.offense.stuff_rate,\n",
    "        offense_overall_success_rate=t.offense.success_rate,\n",
    "        offense_opportunities=t.offense.total_opportunies,\n",
    "        offense_overall_cumulative_ppa=t.offense.total_ppa) for t in adv_team_stats_2024[i]])"
   ]
  },
  {
   "cell_type": "code",
   "execution_count": 4,
   "id": "a83e7890-763e-48fc-adb0-78642fe019c1",
   "metadata": {},
   "outputs": [],
   "source": [
    "# Add a 'through_week' column for every team and week\n",
    "\n",
    "for i in range(0,len(flattened_adv)):\n",
    "    if i%16 == 0:\n",
    "        j=0\n",
    "    j+=1\n",
    "    end_week_dict = {'through_week':j}\n",
    "    for d in flattened_adv[i]:\n",
    "        d.update(end_week_dict)"
   ]
  },
  {
   "cell_type": "code",
   "execution_count": 5,
   "id": "c10eb48a-6b7e-4c4c-a4ef-01d8070a6822",
   "metadata": {},
   "outputs": [],
   "source": [
    "# Flatten another level into a usable list\n",
    "\n",
    "flat_list_adv = []\n",
    "\n",
    "for xs in flattened_adv:\n",
    "    for x in xs:\n",
    "        flat_list_adv.append(x)"
   ]
  },
  {
   "cell_type": "code",
   "execution_count": 6,
   "id": "437d716d-0244-45b5-a2de-f1e472ea9b61",
   "metadata": {},
   "outputs": [],
   "source": [
    "# Convert flattened list into a pandas DF and export as csv\n",
    "\n",
    "adv_team_stats_2024_df = pd.DataFrame.from_records(flat_list_adv)\n",
    "adv_team_stats_2024_df.to_csv('adv_season_stats_by_week_2024.csv', index=False)"
   ]
  },
  {
   "cell_type": "code",
   "execution_count": 7,
   "id": "37406740-7cff-4379-92d7-d04d8ef2fdbe",
   "metadata": {},
   "outputs": [],
   "source": [
    "# Pull basic team stats for every week of 2024 season\n",
    "\n",
    "team_season_stats_2024 = []\n",
    "for end_week in range(1,17):\n",
    "    basic_stats_response = api_stats_instance.get_team_season_stats(year=2024, start_week=1, end_week=end_week)\n",
    "    team_season_stats_2024.append([*basic_stats_response])\n",
    "    "
   ]
  },
  {
   "cell_type": "code",
   "execution_count": 8,
   "id": "5fc76501-09ba-4a5e-ad96-d690d43901b2",
   "metadata": {},
   "outputs": [],
   "source": [
    "# Flatten basic team stats API response one level\n",
    "\n",
    "flattened_bas =[]\n",
    "\n",
    "for i in range(0,len(team_season_stats_2024)):\n",
    "    flattened_bas.append([dict(\n",
    "        season=t.season,\n",
    "        team=t.team,\n",
    "        conference=t.conference,\n",
    "        stat_name=t.stat_name,\n",
    "        stat_value=t.stat_value) for t in team_season_stats_2024[i]])"
   ]
  },
  {
   "cell_type": "code",
   "execution_count": 9,
   "id": "01877468-e63e-470d-bbf2-ca96eb2adc79",
   "metadata": {},
   "outputs": [],
   "source": [
    "# Add a 'through_week' column for every team and week\n",
    "\n",
    "for i in range(0,len(flattened_bas)):\n",
    "    if i%16 == 0:\n",
    "        j=0\n",
    "    j+=1\n",
    "    end_week_dict = {'through_week':j}\n",
    "    for d in flattened_bas[i]:\n",
    "        d.update(end_week_dict)"
   ]
  },
  {
   "cell_type": "code",
   "execution_count": 10,
   "id": "7249c8c2-d885-4830-870b-100c54372852",
   "metadata": {},
   "outputs": [],
   "source": [
    "# Flatten another level into a usable list\n",
    "\n",
    "flat_list_bas = []\n",
    "\n",
    "for xs in flattened_bas:\n",
    "    for x in xs:\n",
    "        flat_list_bas.append(x)"
   ]
  },
  {
   "cell_type": "code",
   "execution_count": 11,
   "id": "086fd228-83f4-4503-bd0a-f1d718c1684f",
   "metadata": {
    "scrolled": true
   },
   "outputs": [],
   "source": [
    "# Convert flattened list into a pandas DF and pivot to expand stat categories as columns\n",
    "\n",
    "team_season_stats_2024_df = pd.DataFrame.from_records(flat_list_bas)\n",
    "team_season_stats_2024_df = team_season_stats_2024_df.pivot(index=['season','through_week','team'], columns='stat_name', values='stat_value').reset_index()"
   ]
  },
  {
   "cell_type": "code",
   "execution_count": 12,
   "id": "8a7a4775-d901-476f-b39d-b70e925fb209",
   "metadata": {
    "scrolled": true
   },
   "outputs": [],
   "source": [
    "# Create new metrics using new basic team stats data frame\n",
    "\n",
    "team_season_stats_2024_df['first_downs_per_game'] = team_season_stats_2024_df['firstDowns']/team_season_stats_2024_df['games']\n",
    "team_season_stats_2024_df['fourth_down_efficiency'] = team_season_stats_2024_df['fourthDownConversions']/team_season_stats_2024_df['fourthDowns']\n",
    "team_season_stats_2024_df['fumbles_lost_per_game'] = team_season_stats_2024_df['fumblesLost']/team_season_stats_2024_df['games']\n",
    "team_season_stats_2024_df['fumbles_recovered_per_game'] = team_season_stats_2024_df['fumblesRecovered']/team_season_stats_2024_df['games']\n",
    "team_season_stats_2024_df['interception_yards_per_int'] = team_season_stats_2024_df['interceptionYards']/team_season_stats_2024_df['interceptions']\n",
    "team_season_stats_2024_df['kick_return_td_ratio'] = team_season_stats_2024_df['kickReturnTDs']/team_season_stats_2024_df['kickReturns']\n",
    "team_season_stats_2024_df['average_kick_return'] = team_season_stats_2024_df['kickReturnYards']/team_season_stats_2024_df['kickReturns']\n",
    "team_season_stats_2024_df['yards_per_pass_attempt'] = team_season_stats_2024_df['netPassingYards']/team_season_stats_2024_df['passAttempts']\n",
    "team_season_stats_2024_df['yards_per_completion'] = team_season_stats_2024_df['netPassingYards']/team_season_stats_2024_df['passCompletions']\n",
    "team_season_stats_2024_df['passes_intercepted_ratio'] = team_season_stats_2024_df['passesIntercepted']/team_season_stats_2024_df['passAttempts']\n",
    "team_season_stats_2024_df['passing_tds_per_game'] = team_season_stats_2024_df['passingTDs']/team_season_stats_2024_df['games']\n",
    "team_season_stats_2024_df['penalties_per_game'] = team_season_stats_2024_df['penalties']/team_season_stats_2024_df['games']\n",
    "team_season_stats_2024_df['yards_per_penalty'] = team_season_stats_2024_df['penaltyYards']/team_season_stats_2024_df['penalties']\n",
    "team_season_stats_2024_df['clock_control'] = team_season_stats_2024_df['possessionTime']/(team_season_stats_2024_df['games']*3600)\n",
    "team_season_stats_2024_df['punt_return_td_ratio'] = team_season_stats_2024_df['puntReturnTDs']/team_season_stats_2024_df['puntReturns']\n",
    "team_season_stats_2024_df['average_punt_return'] = team_season_stats_2024_df['puntReturnYards']/team_season_stats_2024_df['puntReturns']\n",
    "team_season_stats_2024_df['rushing_tds_per_game'] = team_season_stats_2024_df['rushingTDs']/team_season_stats_2024_df['games']\n",
    "team_season_stats_2024_df['yards_per_rush'] = team_season_stats_2024_df['rushingYards']/team_season_stats_2024_df['rushingAttempts']\n",
    "team_season_stats_2024_df['third_down_efficiency'] = team_season_stats_2024_df['thirdDownConversions']/team_season_stats_2024_df['thirdDowns']\n",
    "team_season_stats_2024_df['turnovers_per_game'] = team_season_stats_2024_df['turnovers']/team_season_stats_2024_df['games']\n",
    "\n",
    "# Metrics to add potentially after union w/adv metrics:\n",
    "# interceptions per opponent pass attempt\n",
    "# penalty ratio (using total plays OFF and DEF)\n",
    "\n"
   ]
  },
  {
   "cell_type": "code",
   "execution_count": 13,
   "id": "bf85bf89-3d86-4eb4-928c-0315e6a0a662",
   "metadata": {},
   "outputs": [],
   "source": [
    "# Export basic team stats as csv\n",
    "\n",
    "team_season_stats_2024_df.to_csv('team_season_stats_by_week_2024.csv', index=False)"
   ]
  },
  {
   "cell_type": "code",
   "execution_count": null,
   "id": "6c17ba14-c271-45ee-97f2-fbcf86006c42",
   "metadata": {},
   "outputs": [],
   "source": []
  }
 ],
 "metadata": {
  "kernelspec": {
   "display_name": "Python 3 (ipykernel)",
   "language": "python",
   "name": "python3"
  },
  "language_info": {
   "codemirror_mode": {
    "name": "ipython",
    "version": 3
   },
   "file_extension": ".py",
   "mimetype": "text/x-python",
   "name": "python",
   "nbconvert_exporter": "python",
   "pygments_lexer": "ipython3",
   "version": "3.12.4"
  }
 },
 "nbformat": 4,
 "nbformat_minor": 5
}
